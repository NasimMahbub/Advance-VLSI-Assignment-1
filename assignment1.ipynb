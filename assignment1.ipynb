{
 "cells": [
  {
   "cell_type": "code",
   "execution_count": null,
   "metadata": {},
   "outputs": [],
   "source": [
    "import csv\n",
    "\n",
    "def lfsr(seed, taps, num_patterns, num_inputs):\n",
    "    \"\"\"Generates patterns using LFSR.\"\"\"\n",
    "    seed = [int(bit) for bit in seed]\n",
    "    patterns = []\n",
    "    for _ in range(num_patterns):\n",
    "        # Select the first num_inputs bits as a pattern\n",
    "        pattern = seed[:num_inputs]\n",
    "        patterns.append(pattern)\n",
    "        \n",
    "        # Compute the feedback bit\n",
    "        feedback = sum(seed[tap] for tap in taps) % 2\n",
    "        \n",
    "        # Shift the register and append feedback at the start\n",
    "        seed = [feedback] + seed[:-1]\n",
    "    return patterns\n",
    "\n",
    "def save_to_csv(patterns, num_inputs, file_name=\"lfsr_patterns.csv\"):\n",
    "    \"\"\"Saves the patterns to a CSV file.\"\"\"\n",
    "    headers = [f\"Input_{i+1}\" for i in range(num_inputs)]\n",
    "    with open(file_name, mode=\"w\", newline=\"\") as file:\n",
    "        writer = csv.writer(file)\n",
    "        writer.writerow(headers)\n",
    "        writer.writerows(patterns)\n",
    "    print(f\"Patterns saved to {file_name}\")\n",
    "\n",
    "# Example parameters\n",
    "num_inputs_per_pattern = 4\n",
    "num_patterns_to_generate = 10\n",
    "lfsr_stages = 8\n",
    "initial_seed = \"11001001\"\n",
    "taps = [6, 5]  # Example taps for feedback (based on positions in the LFSR)\n",
    "\n",
    "# Generate patterns\n",
    "generated_patterns = lfsr(initial_seed, taps, num_patterns_to_generate, num_inputs_per_pattern)\n",
    "\n",
    "# Save patterns to CSV\n",
    "save_to_csv(generated_patterns, num_inputs_per_pattern)"
   ]
  }
 ],
 "metadata": {
  "language_info": {
   "name": "python"
  }
 },
 "nbformat": 4,
 "nbformat_minor": 2
}
